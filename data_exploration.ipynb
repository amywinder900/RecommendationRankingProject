{
 "cells": [
  {
   "cell_type": "markdown",
   "metadata": {},
   "source": [
    "First I need to create an engine using my database credentials."
   ]
  },
  {
   "cell_type": "code",
   "execution_count": 1,
   "metadata": {},
   "outputs": [],
   "source": [
    "from yaml import safe_load as yaml_load\n",
    "from sqlalchemy import create_engine\n",
    "\n",
    "with open(\".gitignore/credentials_for_marketplace.yml\") as file:\n",
    "    credentials  = yaml_load(file)\n",
    "DATABASE_TYPE = credentials['DATABASE_TYPE']\n",
    "DBAPI = credentials['DBAPI'] \n",
    "ENDPOINT = credentials['ENDPOINT']       \n",
    "USER = credentials['DBUSER']\n",
    "PASSWORD = credentials['DBPASSWORD']\n",
    "PORT = credentials['PORT']\n",
    "DATABASE = credentials['DATABASE']\n",
    "engine = create_engine(f\"{DATABASE_TYPE}+{DBAPI}://{USER}:{PASSWORD}@{ENDPOINT}:{PORT}/{DATABASE}\")\n",
    "        \n",
    "        "
   ]
  },
  {
   "cell_type": "markdown",
   "metadata": {},
   "source": [
    "I retrieve the tables from the database and create a dictionary consisting of the table names and a pandas dataframe. "
   ]
  },
  {
   "cell_type": "code",
   "execution_count": 2,
   "metadata": {},
   "outputs": [
    {
     "name": "stdout",
     "output_type": "stream",
     "text": [
      "['products_2', 'products', 'images']\n"
     ]
    }
   ],
   "source": [
    "from sqlalchemy import inspect\n",
    "inspector = inspect(engine)\n",
    "table_names = inspector.get_table_names()\n",
    "print(table_names)"
   ]
  },
  {
   "cell_type": "code",
   "execution_count": 4,
   "metadata": {},
   "outputs": [],
   "source": [
    "import pandas as pd\n",
    "tables ={}\n",
    "for table_name in table_names: \n",
    "    tables[table_name] = pd.read_sql_table(table_name, engine)"
   ]
  },
  {
   "cell_type": "markdown",
   "metadata": {},
   "source": [
    "I will start by investigating and cleaning the products table. Since products and products_2 have the same structure, I will create a variable for the table key to improve reusablity of my code. "
   ]
  },
  {
   "cell_type": "code",
   "execution_count": 5,
   "metadata": {},
   "outputs": [
    {
     "data": {
      "text/html": [
       "<div>\n",
       "<style scoped>\n",
       "    .dataframe tbody tr th:only-of-type {\n",
       "        vertical-align: middle;\n",
       "    }\n",
       "\n",
       "    .dataframe tbody tr th {\n",
       "        vertical-align: top;\n",
       "    }\n",
       "\n",
       "    .dataframe thead th {\n",
       "        text-align: right;\n",
       "    }\n",
       "</style>\n",
       "<table border=\"1\" class=\"dataframe\">\n",
       "  <thead>\n",
       "    <tr style=\"text-align: right;\">\n",
       "      <th></th>\n",
       "      <th>id</th>\n",
       "      <th>product_name</th>\n",
       "      <th>category</th>\n",
       "      <th>product_description</th>\n",
       "      <th>price</th>\n",
       "      <th>location</th>\n",
       "      <th>page_id</th>\n",
       "      <th>create_time</th>\n",
       "    </tr>\n",
       "  </thead>\n",
       "  <tbody>\n",
       "    <tr>\n",
       "      <th>0</th>\n",
       "      <td>ac2140ae-f0d5-4fe7-ac08-df0f109fd734</td>\n",
       "      <td>Second-Hand Sofas, Couches &amp; Armchairs for Sal...</td>\n",
       "      <td>N/A</td>\n",
       "      <td>N/A</td>\n",
       "      <td>N/A</td>\n",
       "      <td>N/A</td>\n",
       "      <td>1426592234</td>\n",
       "      <td>2022-02-26</td>\n",
       "    </tr>\n",
       "    <tr>\n",
       "      <th>1</th>\n",
       "      <td>243809c0-9cfc-4486-ad12-3b7a16605ba9</td>\n",
       "      <td>Mirror wall art | in Wokingham, Berkshire | Gu...</td>\n",
       "      <td>Home &amp; Garden / Dining, Living Room Furniture ...</td>\n",
       "      <td>Mirror wall art. Posted by Nisha in Dining, Li...</td>\n",
       "      <td>£5.00</td>\n",
       "      <td>Wokingham, Berkshire</td>\n",
       "      <td>1426704584</td>\n",
       "      <td>2022-02-26</td>\n",
       "    </tr>\n",
       "    <tr>\n",
       "      <th>2</th>\n",
       "      <td>1c58d3f9-8b93-47ea-9415-204fcc2a22e6</td>\n",
       "      <td>Stainless Steel Food Steamer | in Inverness, H...</td>\n",
       "      <td>Home &amp; Garden / Other Household Goods</td>\n",
       "      <td>Morphy Richard’s (model no 48755)Stainless ste...</td>\n",
       "      <td>£20.00</td>\n",
       "      <td>Inverness, Highland</td>\n",
       "      <td>1426704579</td>\n",
       "      <td>2022-02-26</td>\n",
       "    </tr>\n",
       "    <tr>\n",
       "      <th>3</th>\n",
       "      <td>860673f1-57f6-47ba-8d2f-13f9e05b8f9a</td>\n",
       "      <td>Sun loungers | in Skegness, Lincolnshire | Gum...</td>\n",
       "      <td>Home &amp; Garden / Garden &amp; Patio / Outdoor Setti...</td>\n",
       "      <td>I have 2 of these - collection only as I don’t...</td>\n",
       "      <td>£20.00</td>\n",
       "      <td>Skegness, Lincolnshire</td>\n",
       "      <td>1426704576</td>\n",
       "      <td>2022-02-26</td>\n",
       "    </tr>\n",
       "    <tr>\n",
       "      <th>4</th>\n",
       "      <td>59948726-29be-4b35-ade5-bb2fd7331856</td>\n",
       "      <td>Coffee side table from Ammunition ammo box hai...</td>\n",
       "      <td>Home &amp; Garden / Dining, Living Room Furniture ...</td>\n",
       "      <td>Great reclaimed army ammunition box used as co...</td>\n",
       "      <td>£115.00</td>\n",
       "      <td>Radstock, Somerset</td>\n",
       "      <td>1426704575</td>\n",
       "      <td>2022-02-26</td>\n",
       "    </tr>\n",
       "    <tr>\n",
       "      <th>5</th>\n",
       "      <td>16dbc860-696e-4cda-93f6-4dd4926573fb</td>\n",
       "      <td>Modern Shannon Sofa for sale at low cost | in ...</td>\n",
       "      <td>Home &amp; Garden / Dining, Living Room Furniture ...</td>\n",
       "      <td>New Design Shannon Corner sofa  5 Seater Avail...</td>\n",
       "      <td>£450.00</td>\n",
       "      <td>Delph, Manchester</td>\n",
       "      <td>1426704570</td>\n",
       "      <td>2022-02-26</td>\n",
       "    </tr>\n",
       "    <tr>\n",
       "      <th>6</th>\n",
       "      <td>5707be4f-49d9-4feb-b2c8-aa0868405c65</td>\n",
       "      <td>Spotlights | in Newent, Gloucestershire | Gumtree</td>\n",
       "      <td>Home &amp; Garden / Other Household Goods</td>\n",
       "      <td>New in box not needed Spotlights . Posted by s...</td>\n",
       "      <td>£9.00</td>\n",
       "      <td>Newent, Gloucestershire</td>\n",
       "      <td>1426704571</td>\n",
       "      <td>2022-02-26</td>\n",
       "    </tr>\n",
       "    <tr>\n",
       "      <th>7</th>\n",
       "      <td>d2244a7b-aef4-4495-aff7-0c55bf512d6e</td>\n",
       "      <td>💥💥White Wardrobe💥💥Brand new Wardrobe For sale ...</td>\n",
       "      <td>Home &amp; Garden / Beds &amp; Bedroom Furniture / War...</td>\n",
       "      <td>🌈🌈Call Dustin 0208-0049437\\r🌈🌈Same Day Or any...</td>\n",
       "      <td>£419.00</td>\n",
       "      <td>Huddersfield, West Yorkshire</td>\n",
       "      <td>1426704568</td>\n",
       "      <td>2022-02-26</td>\n",
       "    </tr>\n",
       "    <tr>\n",
       "      <th>8</th>\n",
       "      <td>485edc04-7bbc-430a-9430-f05a77f5a917</td>\n",
       "      <td>Letter cage | in Newent, Gloucestershire | Gum...</td>\n",
       "      <td>Home &amp; Garden / Other Household Goods</td>\n",
       "      <td>Selling for family member brand new too big fo...</td>\n",
       "      <td>£10.00</td>\n",
       "      <td>Newent, Gloucestershire</td>\n",
       "      <td>1426704516</td>\n",
       "      <td>2022-02-26</td>\n",
       "    </tr>\n",
       "    <tr>\n",
       "      <th>9</th>\n",
       "      <td>7e538445-c75e-4802-8dc5-a9083a802278</td>\n",
       "      <td>Double Pine Bed Frame | in Lytham St Annes, La...</td>\n",
       "      <td>Home &amp; Garden / Beds &amp; Bedroom Furniture / Dou...</td>\n",
       "      <td>Double Pine bed frame good condition. Reasonab...</td>\n",
       "      <td>£50.00</td>\n",
       "      <td>Lytham St Annes, Lancashire</td>\n",
       "      <td>1426704510</td>\n",
       "      <td>2022-02-26</td>\n",
       "    </tr>\n",
       "  </tbody>\n",
       "</table>\n",
       "</div>"
      ],
      "text/plain": [
       "                                     id  \\\n",
       "0  ac2140ae-f0d5-4fe7-ac08-df0f109fd734   \n",
       "1  243809c0-9cfc-4486-ad12-3b7a16605ba9   \n",
       "2  1c58d3f9-8b93-47ea-9415-204fcc2a22e6   \n",
       "3  860673f1-57f6-47ba-8d2f-13f9e05b8f9a   \n",
       "4  59948726-29be-4b35-ade5-bb2fd7331856   \n",
       "5  16dbc860-696e-4cda-93f6-4dd4926573fb   \n",
       "6  5707be4f-49d9-4feb-b2c8-aa0868405c65   \n",
       "7  d2244a7b-aef4-4495-aff7-0c55bf512d6e   \n",
       "8  485edc04-7bbc-430a-9430-f05a77f5a917   \n",
       "9  7e538445-c75e-4802-8dc5-a9083a802278   \n",
       "\n",
       "                                        product_name  \\\n",
       "0  Second-Hand Sofas, Couches & Armchairs for Sal...   \n",
       "1  Mirror wall art | in Wokingham, Berkshire | Gu...   \n",
       "2  Stainless Steel Food Steamer | in Inverness, H...   \n",
       "3  Sun loungers | in Skegness, Lincolnshire | Gum...   \n",
       "4  Coffee side table from Ammunition ammo box hai...   \n",
       "5  Modern Shannon Sofa for sale at low cost | in ...   \n",
       "6  Spotlights | in Newent, Gloucestershire | Gumtree   \n",
       "7  💥💥White Wardrobe💥💥Brand new Wardrobe For sale ...   \n",
       "8  Letter cage | in Newent, Gloucestershire | Gum...   \n",
       "9  Double Pine Bed Frame | in Lytham St Annes, La...   \n",
       "\n",
       "                                            category  \\\n",
       "0                                                N/A   \n",
       "1  Home & Garden / Dining, Living Room Furniture ...   \n",
       "2              Home & Garden / Other Household Goods   \n",
       "3  Home & Garden / Garden & Patio / Outdoor Setti...   \n",
       "4  Home & Garden / Dining, Living Room Furniture ...   \n",
       "5  Home & Garden / Dining, Living Room Furniture ...   \n",
       "6              Home & Garden / Other Household Goods   \n",
       "7  Home & Garden / Beds & Bedroom Furniture / War...   \n",
       "8              Home & Garden / Other Household Goods   \n",
       "9  Home & Garden / Beds & Bedroom Furniture / Dou...   \n",
       "\n",
       "                                 product_description    price  \\\n",
       "0                                                N/A      N/A   \n",
       "1  Mirror wall art. Posted by Nisha in Dining, Li...    £5.00   \n",
       "2  Morphy Richard’s (model no 48755)Stainless ste...   £20.00   \n",
       "3  I have 2 of these - collection only as I don’t...   £20.00   \n",
       "4  Great reclaimed army ammunition box used as co...  £115.00   \n",
       "5  New Design Shannon Corner sofa  5 Seater Avail...  £450.00   \n",
       "6  New in box not needed Spotlights . Posted by s...    £9.00   \n",
       "7   🌈🌈Call Dustin 0208-0049437\\r🌈🌈Same Day Or any...  £419.00   \n",
       "8  Selling for family member brand new too big fo...   £10.00   \n",
       "9  Double Pine bed frame good condition. Reasonab...   £50.00   \n",
       "\n",
       "                       location     page_id create_time  \n",
       "0                           N/A  1426592234  2022-02-26  \n",
       "1          Wokingham, Berkshire  1426704584  2022-02-26  \n",
       "2           Inverness, Highland  1426704579  2022-02-26  \n",
       "3        Skegness, Lincolnshire  1426704576  2022-02-26  \n",
       "4            Radstock, Somerset  1426704575  2022-02-26  \n",
       "5             Delph, Manchester  1426704570  2022-02-26  \n",
       "6       Newent, Gloucestershire  1426704571  2022-02-26  \n",
       "7  Huddersfield, West Yorkshire  1426704568  2022-02-26  \n",
       "8       Newent, Gloucestershire  1426704516  2022-02-26  \n",
       "9   Lytham St Annes, Lancashire  1426704510  2022-02-26  "
      ]
     },
     "execution_count": 5,
     "metadata": {},
     "output_type": "execute_result"
    }
   ],
   "source": [
    "table_key = \"products\"\n",
    "tables[table_key].head(10)"
   ]
  },
  {
   "cell_type": "code",
   "execution_count": 6,
   "metadata": {},
   "outputs": [
    {
     "name": "stdout",
     "output_type": "stream",
     "text": [
      "<class 'pandas.core.frame.DataFrame'>\n",
      "RangeIndex: 8091 entries, 0 to 8090\n",
      "Data columns (total 8 columns):\n",
      " #   Column               Non-Null Count  Dtype         \n",
      "---  ------               --------------  -----         \n",
      " 0   id                   8091 non-null   object        \n",
      " 1   product_name         8091 non-null   object        \n",
      " 2   category             8091 non-null   object        \n",
      " 3   product_description  8091 non-null   object        \n",
      " 4   price                8091 non-null   object        \n",
      " 5   location             8091 non-null   object        \n",
      " 6   page_id              8091 non-null   int64         \n",
      " 7   create_time          8091 non-null   datetime64[ns]\n",
      "dtypes: datetime64[ns](1), int64(1), object(6)\n",
      "memory usage: 505.8+ KB\n"
     ]
    }
   ],
   "source": [
    "tables[table_key].info()"
   ]
  },
  {
   "cell_type": "markdown",
   "metadata": {},
   "source": [
    "From this, I can see that I need to remove the row with N/A for price. For the moment I will drop any row with N/A in any column. \n",
    "\n",
    "The use of emojis may cause difficulty later, but for the moment I will leave them in as it could provide interesting information. \n",
    "\n",
    "The price should be converted to integer.\n",
    "\n",
    "The location may be able to be converted into an area code.\n",
    "\n",
    "I then need to deal with duplicated values.\n"
   ]
  },
  {
   "cell_type": "code",
   "execution_count": 19,
   "metadata": {},
   "outputs": [],
   "source": [
    "tables[table_key].dropna(inplace=True)"
   ]
  },
  {
   "cell_type": "code",
   "execution_count": 8,
   "metadata": {},
   "outputs": [],
   "source": [
    "def filter_rows_by_values(df, col, values):\n",
    "    return df[~df[col].isin(values)]\n",
    "\n",
    "tables[table_key] = filter_rows_by_values(tables[table_key], tables[table_key].columns, [\"N/A\"])"
   ]
  },
  {
   "cell_type": "code",
   "execution_count": 9,
   "metadata": {},
   "outputs": [
    {
     "name": "stdout",
     "output_type": "stream",
     "text": [
      "<class 'pandas.core.frame.DataFrame'>\n",
      "Int64Index: 8091 entries, 0 to 8090\n",
      "Data columns (total 8 columns):\n",
      " #   Column               Non-Null Count  Dtype         \n",
      "---  ------               --------------  -----         \n",
      " 0   id                   8091 non-null   object        \n",
      " 1   product_name         8091 non-null   object        \n",
      " 2   category             7156 non-null   object        \n",
      " 3   product_description  7156 non-null   object        \n",
      " 4   price                7156 non-null   object        \n",
      " 5   location             7156 non-null   object        \n",
      " 6   page_id              8091 non-null   int64         \n",
      " 7   create_time          8091 non-null   datetime64[ns]\n",
      "dtypes: datetime64[ns](1), int64(1), object(6)\n",
      "memory usage: 568.9+ KB\n"
     ]
    }
   ],
   "source": [
    "tables[table_key].info()"
   ]
  },
  {
   "cell_type": "markdown",
   "metadata": {},
   "source": [
    "This leaves me with around 900 less entries, which for the moment is an acceptable loss. But it may also be interesting to analyse how missing infomation in listings effects sales.\n",
    "\n",
    "I'll now deal with the prices."
   ]
  },
  {
   "cell_type": "code",
   "execution_count": 14,
   "metadata": {},
   "outputs": [],
   "source": [
    "tables[table_key][\"price\"] = tables[table_key][\"price\"].str.strip(\"£\")\n",
    "tables[table_key][\"price\"] = tables[table_key][\"price\"].str.replace(\",\",\"\")\n",
    "tables[table_key][\"price\"] = tables[table_key][\"price\"].astype(\"float64\")\n"
   ]
  },
  {
   "cell_type": "markdown",
   "metadata": {},
   "source": [
    "The next thing to work on is converting the location into an area code so I can map information. "
   ]
  },
  {
   "cell_type": "code",
   "execution_count": 20,
   "metadata": {},
   "outputs": [
    {
     "data": {
      "text/plain": [
       "set[1               Wokingham, Berkshire\n",
       "2                Inverness, Highland\n",
       "3             Skegness, Lincolnshire\n",
       "4                 Radstock, Somerset\n",
       "5                  Delph, Manchester\n",
       "                    ...             \n",
       "8085     Acocks Green, West Midlands\n",
       "8086     Acocks Green, West Midlands\n",
       "8088                 Montrose, Angus\n",
       "8089    Carrickfergus, County Antrim\n",
       "8090                   Poole, Dorset\n",
       "Name: location, Length: 7156, dtype: object]"
      ]
     },
     "execution_count": 20,
     "metadata": {},
     "output_type": "execute_result"
    }
   ],
   "source": [
    "set[tables[table_key][\"location\"]]"
   ]
  },
  {
   "cell_type": "markdown",
   "metadata": {},
   "source": [
    "The locations are too specific to be useful so I'll extract the county/district."
   ]
  },
  {
   "cell_type": "code",
   "execution_count": 31,
   "metadata": {},
   "outputs": [],
   "source": [
    "def extract_county(location):\n",
    "    county = location.split(\",\")[-1].strip()\n",
    "    return county\n",
    "\n",
    "tables[table_key][\"county\"] = tables[table_key][\"location\"].apply(extract_county)"
   ]
  },
  {
   "cell_type": "code",
   "execution_count": 32,
   "metadata": {},
   "outputs": [
    {
     "data": {
      "text/plain": [
       "{'Aberdeen',\n",
       " 'Aberdeenshire',\n",
       " 'Angus',\n",
       " 'Argyll and Bute',\n",
       " 'Bedfordshire',\n",
       " 'Belfast',\n",
       " 'Berkshire',\n",
       " 'Blaenau Gwent',\n",
       " 'Bridgend',\n",
       " 'Bristol',\n",
       " 'Buckinghamshire',\n",
       " 'Caerphilly',\n",
       " 'Cambridgeshire',\n",
       " 'Cardiff',\n",
       " 'Carmarthenshire',\n",
       " 'Cheshire',\n",
       " 'Clackmannanshire',\n",
       " 'Cornwall',\n",
       " 'County Antrim',\n",
       " 'County Armagh',\n",
       " 'County Down',\n",
       " 'County Durham',\n",
       " 'County Fermanagh',\n",
       " 'County Londonderry',\n",
       " 'County Tyrone',\n",
       " 'Cumbria',\n",
       " 'Derbyshire',\n",
       " 'Devon',\n",
       " 'Dorset',\n",
       " 'Dumfries and Galloway',\n",
       " 'Dundee',\n",
       " 'East Ayrshire',\n",
       " 'East Dunbartonshire',\n",
       " 'East Lothian',\n",
       " 'East Sussex',\n",
       " 'East Yorkshire',\n",
       " 'Edinburgh',\n",
       " 'Essex',\n",
       " 'Falkirk',\n",
       " 'Fife',\n",
       " 'Flintshire',\n",
       " 'Glasgow',\n",
       " 'Gloucestershire',\n",
       " 'Gwynedd',\n",
       " 'Hampshire',\n",
       " 'Herefordshire',\n",
       " 'Hertfordshire',\n",
       " 'Highland',\n",
       " 'Inverclyde',\n",
       " 'Isle of Wight',\n",
       " 'Kent',\n",
       " 'Lancashire',\n",
       " 'Leicestershire',\n",
       " 'Lincolnshire',\n",
       " 'London',\n",
       " 'Manchester',\n",
       " 'Merseyside',\n",
       " 'Merthyr Tydfil',\n",
       " 'Midlothian',\n",
       " 'Monmouthshire',\n",
       " 'Moray',\n",
       " 'Neath Port Talbot',\n",
       " 'Newport',\n",
       " 'Norfolk',\n",
       " 'North Ayrshire',\n",
       " 'North Lanarkshire',\n",
       " 'North Yorkshire',\n",
       " 'Northamptonshire',\n",
       " 'Northumberland',\n",
       " 'Nottinghamshire',\n",
       " 'Oxfordshire',\n",
       " 'Pembrokeshire',\n",
       " 'Perth and Kinross',\n",
       " 'Powys',\n",
       " 'Ramsey',\n",
       " 'Renfrewshire',\n",
       " 'Rhondda Cynon Taf',\n",
       " 'Rutland',\n",
       " 'Scottish Borders',\n",
       " 'Shropshire',\n",
       " 'Somerset',\n",
       " 'South Ayrshire',\n",
       " 'South Lanarkshire',\n",
       " 'South Yorkshire',\n",
       " 'Staffordshire',\n",
       " 'Stirling',\n",
       " 'Suffolk',\n",
       " 'Surrey',\n",
       " 'Swansea',\n",
       " 'Torfaen',\n",
       " 'Tyne and Wear',\n",
       " 'Vale of Glamorgan',\n",
       " 'Warwickshire',\n",
       " 'West Dunbartonshire',\n",
       " 'West Lothian',\n",
       " 'West Midlands',\n",
       " 'West Sussex',\n",
       " 'West Yorkshire',\n",
       " 'Wiltshire',\n",
       " 'Worcestershire',\n",
       " 'Wrexham'}"
      ]
     },
     "execution_count": 32,
     "metadata": {},
     "output_type": "execute_result"
    }
   ],
   "source": [
    "set(tables[table_key][\"county\"])"
   ]
  },
  {
   "cell_type": "markdown",
   "metadata": {},
   "source": [
    "Finally I'll check for any duplicated data."
   ]
  },
  {
   "cell_type": "code",
   "execution_count": null,
   "metadata": {},
   "outputs": [],
   "source": [
    "#TODO Identify duplicate data"
   ]
  }
 ],
 "metadata": {
  "interpreter": {
   "hash": "dcf507bf5873a8c97ddf2db58122cc59cd3f9ce25022ef6c5deee080e32895da"
  },
  "kernelspec": {
   "display_name": "Python 3.9.5 ('base')",
   "language": "python",
   "name": "python3"
  },
  "language_info": {
   "codemirror_mode": {
    "name": "ipython",
    "version": 3
   },
   "file_extension": ".py",
   "mimetype": "text/x-python",
   "name": "python",
   "nbconvert_exporter": "python",
   "pygments_lexer": "ipython3",
   "version": "3.9.5"
  },
  "orig_nbformat": 4
 },
 "nbformat": 4,
 "nbformat_minor": 2
}
