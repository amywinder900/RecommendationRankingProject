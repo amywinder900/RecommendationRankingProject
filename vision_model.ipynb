{
 "cells": [
  {
   "cell_type": "code",
   "execution_count": 34,
   "metadata": {},
   "outputs": [],
   "source": [
    "import pandas as pd\n",
    "from torch.utils.data import Dataset, DataLoader\n",
    "import torch\n",
    "import numpy as np\n",
    "from os.path import isfile\n",
    "import torch.nn.functional as F\n",
    "from data_handling.image_processing import PrepareData\n",
    "from torch.utils.tensorboard import SummaryWriter"
   ]
  },
  {
   "cell_type": "code",
   "execution_count": 35,
   "metadata": {},
   "outputs": [],
   "source": [
    "image_size = 128\n",
    "credentials_location = \".gitignore/credentials_for_marketplace.yml\"\n",
    "images_folder = \"data/cleaned_images_\" + str(image_size)\n",
    "X_array_folder = \"data/X_for_image_\"+ str(image_size) + \".npy\"\n",
    "y_array_folder = \"data/y_for_image_\"+ str(image_size)+\".npy\"\n",
    "\n",
    "\n",
    "\n",
    "if isfile(X_array_folder) and isfile(y_array_folder): \n",
    "    X = np.load(X_array_folder)\n",
    "    y = np.load(y_array_folder)\n",
    "else:\n",
    "    pipeline = PrepareData()\n",
    "    product_df, image_df = pipeline.retrieve_dataframes(credentials_location)\n",
    "    X, y = pipeline.form_arrays(images_folder, image_size)\n",
    "    pipeline.save_to_files(X_array_folder, y_array_folder)\n",
    "\n"
   ]
  },
  {
   "cell_type": "code",
   "execution_count": 36,
   "metadata": {},
   "outputs": [],
   "source": [
    "class ProductImageCategoryDataset(Dataset):\n",
    "    def __init__(self, X, y, img_side_length):\n",
    "        super().__init__()\n",
    "\n",
    "        self.X = X\n",
    "        self.y = y\n",
    "        self.img_side_length = img_side_length\n",
    "        \n",
    "        assert len(self.X) == len(self.y)\n",
    "\n",
    "    def __getitem__(self, index):\n",
    "        features = self.X[index]\n",
    "        label = self.y[index]\n",
    "        features = torch.tensor(features)\n",
    "        features = features.reshape(3, self.img_side_length, self.img_side_length)\n",
    "\n",
    "        label = int(label)\n",
    "\n",
    "        return (features, label)\n",
    "\n",
    "    def __len__(self):\n",
    "        return len(self.X)\n",
    "\n"
   ]
  },
  {
   "cell_type": "code",
   "execution_count": 37,
   "metadata": {},
   "outputs": [],
   "source": [
    "\n",
    "dataset = ProductImageCategoryDataset(X,y, image_size)\n"
   ]
  },
  {
   "cell_type": "code",
   "execution_count": 38,
   "metadata": {},
   "outputs": [],
   "source": [
    "\n",
    "train_loader = DataLoader(dataset, batch_size=4, shuffle=True)"
   ]
  },
  {
   "cell_type": "code",
   "execution_count": 39,
   "metadata": {},
   "outputs": [],
   "source": [
    "class CNN(torch.nn.Module):\n",
    "    def __init__(self):\n",
    "        super().__init__()\n",
    "        self.layers = torch.nn.Sequential(\n",
    "            torch.nn.Conv2d(3, 8, 9),\n",
    "            torch.nn.ReLU(),\n",
    "            torch.nn.Conv2d(8, 16, 7),\n",
    "            torch.nn.ReLU(),\n",
    "            torch.nn.Flatten(),  # flatten\n",
    "            torch.nn.Linear(207936, 128),\n",
    "            torch.nn.ReLU(),\n",
    "            torch.nn.Linear(128, 13),\n",
    "            torch.nn.Softmax()  # turn into probabilities\n",
    "        )\n",
    "\n",
    "    def forward(self, features):\n",
    "        return self.layers(features)\n",
    "\n"
   ]
  },
  {
   "cell_type": "code",
   "execution_count": 40,
   "metadata": {},
   "outputs": [],
   "source": [
    "# Checks if GPU is avaliable to run on.\n",
    "device = torch.device(\"cudo\" if torch.cuda.is_available() else \"cpu\")"
   ]
  },
  {
   "cell_type": "code",
   "execution_count": null,
   "metadata": {},
   "outputs": [],
   "source": [
    "learning_rate = 0.0001"
   ]
  },
  {
   "cell_type": "code",
   "execution_count": 42,
   "metadata": {},
   "outputs": [
    {
     "ename": "KeyboardInterrupt",
     "evalue": "",
     "output_type": "error",
     "traceback": [
      "\u001b[0;31m---------------------------------------------------------------------------\u001b[0m",
      "\u001b[0;31mKeyboardInterrupt\u001b[0m                         Traceback (most recent call last)",
      "\u001b[1;32m/home/amy/RecommendationRankingProject/vision_model.ipynb Cell 9'\u001b[0m in \u001b[0;36m<cell line: 5>\u001b[0;34m()\u001b[0m\n\u001b[1;32m     <a href='vscode-notebook-cell:/home/amy/RecommendationRankingProject/vision_model.ipynb#ch0000008?line=11'>12</a>\u001b[0m writer\u001b[39m.\u001b[39madd_scalar(\u001b[39m\"\u001b[39m\u001b[39mLoss\u001b[39m\u001b[39m\"\u001b[39m, loss\u001b[39m.\u001b[39mitem(), batch_index)\n\u001b[1;32m     <a href='vscode-notebook-cell:/home/amy/RecommendationRankingProject/vision_model.ipynb#ch0000008?line=13'>14</a>\u001b[0m \u001b[39m# calculate the gradients \u001b[39;00m\n\u001b[0;32m---> <a href='vscode-notebook-cell:/home/amy/RecommendationRankingProject/vision_model.ipynb#ch0000008?line=14'>15</a>\u001b[0m loss\u001b[39m.\u001b[39;49mbackward()\n\u001b[1;32m     <a href='vscode-notebook-cell:/home/amy/RecommendationRankingProject/vision_model.ipynb#ch0000008?line=16'>17</a>\u001b[0m \u001b[39m#take an optimisation step\u001b[39;00m\n\u001b[1;32m     <a href='vscode-notebook-cell:/home/amy/RecommendationRankingProject/vision_model.ipynb#ch0000008?line=17'>18</a>\u001b[0m optimiser\u001b[39m.\u001b[39mstep()\n",
      "File \u001b[0;32m~/miniconda3/envs/rec_ranking/lib/python3.10/site-packages/torch/_tensor.py:363\u001b[0m, in \u001b[0;36mTensor.backward\u001b[0;34m(self, gradient, retain_graph, create_graph, inputs)\u001b[0m\n\u001b[1;32m    <a href='file:///home/amy/miniconda3/envs/rec_ranking/lib/python3.10/site-packages/torch/_tensor.py?line=353'>354</a>\u001b[0m \u001b[39mif\u001b[39;00m has_torch_function_unary(\u001b[39mself\u001b[39m):\n\u001b[1;32m    <a href='file:///home/amy/miniconda3/envs/rec_ranking/lib/python3.10/site-packages/torch/_tensor.py?line=354'>355</a>\u001b[0m     \u001b[39mreturn\u001b[39;00m handle_torch_function(\n\u001b[1;32m    <a href='file:///home/amy/miniconda3/envs/rec_ranking/lib/python3.10/site-packages/torch/_tensor.py?line=355'>356</a>\u001b[0m         Tensor\u001b[39m.\u001b[39mbackward,\n\u001b[1;32m    <a href='file:///home/amy/miniconda3/envs/rec_ranking/lib/python3.10/site-packages/torch/_tensor.py?line=356'>357</a>\u001b[0m         (\u001b[39mself\u001b[39m,),\n\u001b[0;32m   (...)\u001b[0m\n\u001b[1;32m    <a href='file:///home/amy/miniconda3/envs/rec_ranking/lib/python3.10/site-packages/torch/_tensor.py?line=360'>361</a>\u001b[0m         create_graph\u001b[39m=\u001b[39mcreate_graph,\n\u001b[1;32m    <a href='file:///home/amy/miniconda3/envs/rec_ranking/lib/python3.10/site-packages/torch/_tensor.py?line=361'>362</a>\u001b[0m         inputs\u001b[39m=\u001b[39minputs)\n\u001b[0;32m--> <a href='file:///home/amy/miniconda3/envs/rec_ranking/lib/python3.10/site-packages/torch/_tensor.py?line=362'>363</a>\u001b[0m torch\u001b[39m.\u001b[39;49mautograd\u001b[39m.\u001b[39;49mbackward(\u001b[39mself\u001b[39;49m, gradient, retain_graph, create_graph, inputs\u001b[39m=\u001b[39;49minputs)\n",
      "File \u001b[0;32m~/miniconda3/envs/rec_ranking/lib/python3.10/site-packages/torch/autograd/__init__.py:173\u001b[0m, in \u001b[0;36mbackward\u001b[0;34m(tensors, grad_tensors, retain_graph, create_graph, grad_variables, inputs)\u001b[0m\n\u001b[1;32m    <a href='file:///home/amy/miniconda3/envs/rec_ranking/lib/python3.10/site-packages/torch/autograd/__init__.py?line=167'>168</a>\u001b[0m     retain_graph \u001b[39m=\u001b[39m create_graph\n\u001b[1;32m    <a href='file:///home/amy/miniconda3/envs/rec_ranking/lib/python3.10/site-packages/torch/autograd/__init__.py?line=169'>170</a>\u001b[0m \u001b[39m# The reason we repeat same the comment below is that\u001b[39;00m\n\u001b[1;32m    <a href='file:///home/amy/miniconda3/envs/rec_ranking/lib/python3.10/site-packages/torch/autograd/__init__.py?line=170'>171</a>\u001b[0m \u001b[39m# some Python versions print out the first line of a multi-line function\u001b[39;00m\n\u001b[1;32m    <a href='file:///home/amy/miniconda3/envs/rec_ranking/lib/python3.10/site-packages/torch/autograd/__init__.py?line=171'>172</a>\u001b[0m \u001b[39m# calls in the traceback and some print out the last line\u001b[39;00m\n\u001b[0;32m--> <a href='file:///home/amy/miniconda3/envs/rec_ranking/lib/python3.10/site-packages/torch/autograd/__init__.py?line=172'>173</a>\u001b[0m Variable\u001b[39m.\u001b[39;49m_execution_engine\u001b[39m.\u001b[39;49mrun_backward(  \u001b[39m# Calls into the C++ engine to run the backward pass\u001b[39;49;00m\n\u001b[1;32m    <a href='file:///home/amy/miniconda3/envs/rec_ranking/lib/python3.10/site-packages/torch/autograd/__init__.py?line=173'>174</a>\u001b[0m     tensors, grad_tensors_, retain_graph, create_graph, inputs,\n\u001b[1;32m    <a href='file:///home/amy/miniconda3/envs/rec_ranking/lib/python3.10/site-packages/torch/autograd/__init__.py?line=174'>175</a>\u001b[0m     allow_unreachable\u001b[39m=\u001b[39;49m\u001b[39mTrue\u001b[39;49;00m, accumulate_grad\u001b[39m=\u001b[39;49m\u001b[39mTrue\u001b[39;49;00m)\n",
      "\u001b[0;31mKeyboardInterrupt\u001b[0m: "
     ]
    }
   ],
   "source": [
    "\n",
    "model = CNN().to(device)\n",
    "optimiser = torch.optim.Adam(model.parameters(), lr = learning_rate)\n",
    "writer = SummaryWriter()\n",
    "\n",
    "for batch_index, batch in enumerate(train_loader):\n",
    "\n",
    "    features, labels = batch\n",
    "    prediction = model(features.float())\n",
    "    \n",
    "    # calculate the loss\n",
    "    loss = F.cross_entropy(prediction, labels)\n",
    "    writer.add_scalar(\"Loss\", loss.item(), batch_index)\n",
    "\n",
    "    # calculate the gradients \n",
    "    loss.backward()\n",
    "\n",
    "    #take an optimisation step\n",
    "    optimiser.step()\n",
    "\n",
    "    optimiser.zero_grad()\n",
    "    \n",
    "\n",
    "\n"
   ]
  },
  {
   "cell_type": "code",
   "execution_count": null,
   "metadata": {},
   "outputs": [],
   "source": []
  }
 ],
 "metadata": {
  "interpreter": {
   "hash": "f53e2f1528c4ea6ed94c8d97c2244a74e89c0ff201e49f44e466841bc02a24f6"
  },
  "kernelspec": {
   "display_name": "Python 3.10.4 ('rec_ranking')",
   "language": "python",
   "name": "python3"
  },
  "language_info": {
   "codemirror_mode": {
    "name": "ipython",
    "version": 3
   },
   "file_extension": ".py",
   "mimetype": "text/x-python",
   "name": "python",
   "nbconvert_exporter": "python",
   "pygments_lexer": "ipython3",
   "version": "3.10.4"
  },
  "orig_nbformat": 4
 },
 "nbformat": 4,
 "nbformat_minor": 2
}
