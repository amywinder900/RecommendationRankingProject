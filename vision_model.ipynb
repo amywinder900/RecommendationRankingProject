{
  "cells": [
    {
      "cell_type": "code",
      "execution_count": 1,
      "metadata": {
        "id": "rmMS5_OMkEEL"
      },
      "outputs": [],
      "source": [
        "import copy\n",
        "import numpy as np\n",
        "import pandas as pd\n",
        "import torch\n",
        "import torch.nn as nn\n",
        "import torch.nn.functional as F\n",
        "from os.path import isfile\n",
        "from torch.optim import lr_scheduler\n",
        "from torch.utils.tensorboard import SummaryWriter\n",
        "from torchvision import models\n",
        "from torchvision import transforms\n",
        "from image_loader import ProductImageCategoryDataset, create_data_loaders"
      ]
    },
    {
      "cell_type": "code",
      "execution_count": 2,
      "metadata": {
        "id": "C-mn6iUl0rYf"
      },
      "outputs": [],
      "source": [
        "class resnet50CNN(torch.nn.Module): \n",
        "  def __init__(self):\n",
        "    super().__init__()\n",
        "    self.features = models.resnet50(pretrained=True)\n",
        "    \n",
        "    # Freezes the first layers of resnet so that only the final few layers are being trained\n",
        "    for i, parameter in enumerate(self.features.parameters()):\n",
        "            if i < 47:\n",
        "                parameter.requires_grad=False\n",
        "            else:\n",
        "                parameter.requires_grad=True\n",
        "\n",
        "    # Replace the final layer with my own layers. \n",
        "    self.features.fc = torch.nn.Sequential(\n",
        "        torch.nn.Linear(2048, 512), \n",
        "        torch.nn.ReLU(), \n",
        "        torch.nn.Dropout(), \n",
        "        torch.nn.Linear(512, 256),\n",
        "        torch.nn.ReLU(),\n",
        "        torch.nn.Linear(256, 13),\n",
        "    )\n",
        "\n",
        "  def forward(self, x):\n",
        "    x = self.features(x)\n",
        "    return x\n",
        "\n",
        "\n"
      ]
    },
    {
      "cell_type": "code",
      "execution_count": 3,
      "metadata": {
        "id": "pQWlKatckEE6"
      },
      "outputs": [],
      "source": [
        "def train(epochs, model, optimiser, data_loader, dataset_sizes, model_save_location=None, model_load_location=None, scheduler=None, device=\"cpu\"):\n",
        "  writer = SummaryWriter()\n",
        "\n",
        "  if model_load_location != None:\n",
        "    model.load_state_dict(torch.load(model_load_location))\n",
        "\n",
        "  best_model_weights = copy.deepcopy(model.state_dict())\n",
        "  best_accuracy = 0.0\n",
        "\n",
        "  for epoch in range(epochs):\n",
        "      print(\"-\"*15)\n",
        "      print(f\"Epoch number: {epoch}\")\n",
        "      print(\"-\"*15)\n",
        "\n",
        "      for phase in [\"train\", \"val\"]:\n",
        "\n",
        "        if phase == \"train\":\n",
        "          print(\"Training...\")\n",
        "          model.train()\n",
        "        else:\n",
        "          print(\"Validating...\")\n",
        "          model.eval()\n",
        "\n",
        "        running_loss = 0.0\n",
        "        running_correct = 0 \n",
        "\n",
        "        for batch_index, batch in enumerate(data_loader[phase]):\n",
        "          features, labels = batch\n",
        "          features, labels = features.to(device).float(), labels.to(device)\n",
        "\n",
        "          #reset the optimiser each loop\n",
        "          optimiser.zero_grad()\n",
        "\n",
        "          #grad enabled in the training phase\n",
        "          with torch.set_grad_enabled(phase == \"train\"):\n",
        "            \n",
        "            outputs = model(features)\n",
        "            _, predictions = torch.max(outputs, 1)\n",
        "            \n",
        "\n",
        "            # calculate the loss \n",
        "            loss = F.cross_entropy(outputs, labels)\n",
        "            \n",
        "            #take optimisation steps in the training fase\n",
        "            if phase == \"train\":\n",
        "              loss.backward()\n",
        "              optimiser.step()\n",
        "\n",
        "\n",
        "          # statistics\n",
        "          running_loss += loss.item()*features.size(0)\n",
        "          running_correct += torch.sum(predictions == labels.data)\n",
        "          \n",
        "        if scheduler != None and phase == 'train':\n",
        "          scheduler.step()\n",
        "\n",
        "\n",
        "        epoch_loss = running_loss / dataset_sizes[phase]\n",
        "        epoch_acc = running_correct.double() / dataset_sizes[phase]\n",
        "\n",
        "\n",
        "\n",
        "\n",
        "        print(f'Loss: {epoch_loss:.4f} Acc: {epoch_acc*100:.1f}%')\n",
        "\n",
        "        if phase == \"train\":\n",
        "          writer.add_scalar(\"Training Accuracy\", epoch_acc*100, epoch)\n",
        "          writer.add_scalar('Training Loss', epoch_loss, epoch)\n",
        "        else:\n",
        "          writer.add_scalar(\"Validation Accuracy\", epoch_acc*100, epoch)\n",
        "          writer.add_scalar('Validation Loss', epoch_loss, epoch)\n",
        "\n",
        "        # deep copy the model\n",
        "        if phase == 'val' and epoch_acc > best_accuracy:\n",
        "            best_accuracy = epoch_acc\n",
        "            best_model_weights = copy.deepcopy(model.state_dict())\n",
        "  \n",
        "        writer.flush()\n",
        "\n",
        "  # Load the best model weights\n",
        "  model.load_state_dict(best_model_weights)\n",
        "\n",
        "  if model_save_location != None:\n",
        "    torch.save(model.state_dict(), model_save_location)\n",
        "\n",
        "  return model \n",
        "\n"
      ]
    },
    {
      "cell_type": "code",
      "execution_count": 4,
      "metadata": {
        "colab": {
          "base_uri": "https://localhost:8080/",
          "height": 838
        },
        "id": "dfUsrcB24V81",
        "outputId": "8f6c49db-c1a3-47c7-8838-854d82bf92f8"
      },
      "outputs": [
        {
          "data": {
            "text/html": [
              "\n",
              "      <iframe id=\"tensorboard-frame-41ab3af77e84ff69\" width=\"100%\" height=\"800\" frameborder=\"0\">\n",
              "      </iframe>\n",
              "      <script>\n",
              "        (function() {\n",
              "          const frame = document.getElementById(\"tensorboard-frame-41ab3af77e84ff69\");\n",
              "          const url = new URL(\"/\", window.location);\n",
              "          const port = 6006;\n",
              "          if (port) {\n",
              "            url.port = port;\n",
              "          }\n",
              "          frame.src = url;\n",
              "        })();\n",
              "      </script>\n",
              "    "
            ],
            "text/plain": [
              "<IPython.core.display.HTML object>"
            ]
          },
          "metadata": {},
          "output_type": "display_data"
        }
      ],
      "source": [
        "%reload_ext tensorboard\n",
        "%tensorboard --logdir runs"
      ]
    },
    {
      "cell_type": "code",
      "execution_count": 5,
      "metadata": {
        "id": "BAzl3J-dW_1-"
      },
      "outputs": [],
      "source": [
        "# Checks if GPU is avaliable to run on.\n",
        "device = torch.device(\"cuda\" if torch.cuda.is_available() else \"cpu\")"
      ]
    },
    {
      "cell_type": "code",
      "execution_count": 6,
      "metadata": {
        "id": "QaahlVEYDo-R"
      },
      "outputs": [],
      "source": [
        "# Data augmentation and normalization for training\n",
        "# Just normalization for validation\n",
        "data_transforms = {\n",
        "    'train': transforms.Compose([\n",
        "        transforms.RandomResizedCrop(224),\n",
        "        transforms.RandomHorizontalFlip(),\n",
        "        transforms.ToTensor(),\n",
        "        transforms.Normalize([0.485, 0.456, 0.406], [0.229, 0.224, 0.225])\n",
        "    ]),\n",
        "    'val': transforms.Compose([\n",
        "        transforms.Resize(256),\n",
        "        transforms.CenterCrop(224),\n",
        "        transforms.ToTensor(),\n",
        "        transforms.Normalize([0.485, 0.456, 0.406], [0.229, 0.224, 0.225])\n",
        "    ]),\n",
        "}\n",
        "\n",
        "\n",
        "# Other batch hyperparameters\n",
        "validation_split = 0.2\n",
        "batch_size = 8\n",
        "\n",
        "# Create data loaders\n",
        "data_loader, dataset_sizes = create_data_loaders(\"data/cleaned_images_128/\", ProductImageCategoryDataset, 128, data_transforms, validation_split, batch_size)\n"
      ]
    },
    {
      "cell_type": "markdown",
      "metadata": {
        "id": "wh6jbq5_tHtL"
      },
      "source": [
        "# Create Model"
      ]
    },
    {
      "cell_type": "code",
      "execution_count": 7,
      "metadata": {
        "colab": {
          "base_uri": "https://localhost:8080/",
          "height": 86,
          "referenced_widgets": [
            "bf1f115d0b99460d883339a48e1456f9",
            "aa28eb13b586404e98c0c3935474d701",
            "7698d9558efc4f0c952f4ca21938bb06",
            "0cedadb4310f4566a669d2a2b15fbb80",
            "29d46b8711a247a6acb0e7fe6626c038",
            "7dd6778c37904e27941c5e7c0f115dea",
            "37d5f0eddf7c4c7d8b6dfd7f67d13391",
            "df6a269fac67456c909581f3c2ede460",
            "4b2fa506853e4f30bf164181952edc0c",
            "9a7e8dad39e04ecfba776e9c070a5ee2",
            "30279549aa7f4ff48dc073612a8f32ab"
          ]
        },
        "id": "wic0A1t6kEE2",
        "outputId": "cdcfc24a-427f-4701-c6cf-0eb240cc7726"
      },
      "outputs": [],
      "source": [
        "# Create model class\n",
        "model = resnet50CNN().to(device)"
      ]
    },
    {
      "cell_type": "markdown",
      "metadata": {
        "id": "aQD3jI1RtTeY"
      },
      "source": [
        "# Train Model"
      ]
    },
    {
      "cell_type": "code",
      "execution_count": 8,
      "metadata": {
        "id": "apjWS7EgXvrt"
      },
      "outputs": [],
      "source": [
        "optimiser = torch.optim.SGD(model.parameters(), lr = 0.001, momentum=0.9) \n",
        "scheduler = lr_scheduler.StepLR(optimiser, step_size = 10, gamma=0.1)"
      ]
    },
    {
      "cell_type": "code",
      "execution_count": 9,
      "metadata": {
        "colab": {
          "base_uri": "https://localhost:8080/"
        },
        "id": "RhxhHBP92TCR",
        "outputId": "97bfffb6-0da9-4dcd-d29f-20280e4363d9"
      },
      "outputs": [
        {
          "name": "stdout",
          "output_type": "stream",
          "text": [
            "---------------\n",
            "Epoch number: 0\n",
            "---------------\n",
            "Training...\n"
          ]
        },
        {
          "ename": "KeyboardInterrupt",
          "evalue": "",
          "output_type": "error",
          "traceback": [
            "\u001b[0;31m---------------------------------------------------------------------------\u001b[0m",
            "\u001b[0;31mKeyboardInterrupt\u001b[0m                         Traceback (most recent call last)",
            "\u001b[1;32m/home/amy/RecommendationRankingProject/vision_model.ipynb Cell 11\u001b[0m in \u001b[0;36m<cell line: 1>\u001b[0;34m()\u001b[0m\n\u001b[0;32m----> <a href='vscode-notebook-cell:/home/amy/RecommendationRankingProject/vision_model.ipynb#X13sZmlsZQ%3D%3D?line=0'>1</a>\u001b[0m model \u001b[39m=\u001b[39m train(\u001b[39m40\u001b[39;49m, model, optimiser,data_loader, dataset_sizes, scheduler\u001b[39m=\u001b[39;49mscheduler, model_save_location\u001b[39m=\u001b[39;49m\u001b[39m\"\u001b[39;49m\u001b[39m/content/drive/My Drive/coding/vision_model_state.pt\u001b[39;49m\u001b[39m\"\u001b[39;49m, device\u001b[39m=\u001b[39;49mdevice)\n",
            "\u001b[1;32m/home/amy/RecommendationRankingProject/vision_model.ipynb Cell 11\u001b[0m in \u001b[0;36mtrain\u001b[0;34m(epochs, model, optimiser, data_loader, dataset_sizes, model_save_location, model_load_location, scheduler, device)\u001b[0m\n\u001b[1;32m     <a href='vscode-notebook-cell:/home/amy/RecommendationRankingProject/vision_model.ipynb#X13sZmlsZQ%3D%3D?line=43'>44</a>\u001b[0m   \u001b[39m#take optimisation steps in the training fase\u001b[39;00m\n\u001b[1;32m     <a href='vscode-notebook-cell:/home/amy/RecommendationRankingProject/vision_model.ipynb#X13sZmlsZQ%3D%3D?line=44'>45</a>\u001b[0m   \u001b[39mif\u001b[39;00m phase \u001b[39m==\u001b[39m \u001b[39m\"\u001b[39m\u001b[39mtrain\u001b[39m\u001b[39m\"\u001b[39m:\n\u001b[0;32m---> <a href='vscode-notebook-cell:/home/amy/RecommendationRankingProject/vision_model.ipynb#X13sZmlsZQ%3D%3D?line=45'>46</a>\u001b[0m     loss\u001b[39m.\u001b[39;49mbackward()\n\u001b[1;32m     <a href='vscode-notebook-cell:/home/amy/RecommendationRankingProject/vision_model.ipynb#X13sZmlsZQ%3D%3D?line=46'>47</a>\u001b[0m     optimiser\u001b[39m.\u001b[39mstep()\n\u001b[1;32m     <a href='vscode-notebook-cell:/home/amy/RecommendationRankingProject/vision_model.ipynb#X13sZmlsZQ%3D%3D?line=49'>50</a>\u001b[0m \u001b[39m# statistics\u001b[39;00m\n",
            "File \u001b[0;32m~/miniconda3/envs/rec_ranking/lib/python3.10/site-packages/torch/_tensor.py:363\u001b[0m, in \u001b[0;36mTensor.backward\u001b[0;34m(self, gradient, retain_graph, create_graph, inputs)\u001b[0m\n\u001b[1;32m    354\u001b[0m \u001b[39mif\u001b[39;00m has_torch_function_unary(\u001b[39mself\u001b[39m):\n\u001b[1;32m    355\u001b[0m     \u001b[39mreturn\u001b[39;00m handle_torch_function(\n\u001b[1;32m    356\u001b[0m         Tensor\u001b[39m.\u001b[39mbackward,\n\u001b[1;32m    357\u001b[0m         (\u001b[39mself\u001b[39m,),\n\u001b[0;32m   (...)\u001b[0m\n\u001b[1;32m    361\u001b[0m         create_graph\u001b[39m=\u001b[39mcreate_graph,\n\u001b[1;32m    362\u001b[0m         inputs\u001b[39m=\u001b[39minputs)\n\u001b[0;32m--> 363\u001b[0m torch\u001b[39m.\u001b[39;49mautograd\u001b[39m.\u001b[39;49mbackward(\u001b[39mself\u001b[39;49m, gradient, retain_graph, create_graph, inputs\u001b[39m=\u001b[39;49minputs)\n",
            "File \u001b[0;32m~/miniconda3/envs/rec_ranking/lib/python3.10/site-packages/torch/autograd/__init__.py:173\u001b[0m, in \u001b[0;36mbackward\u001b[0;34m(tensors, grad_tensors, retain_graph, create_graph, grad_variables, inputs)\u001b[0m\n\u001b[1;32m    168\u001b[0m     retain_graph \u001b[39m=\u001b[39m create_graph\n\u001b[1;32m    170\u001b[0m \u001b[39m# The reason we repeat same the comment below is that\u001b[39;00m\n\u001b[1;32m    171\u001b[0m \u001b[39m# some Python versions print out the first line of a multi-line function\u001b[39;00m\n\u001b[1;32m    172\u001b[0m \u001b[39m# calls in the traceback and some print out the last line\u001b[39;00m\n\u001b[0;32m--> 173\u001b[0m Variable\u001b[39m.\u001b[39;49m_execution_engine\u001b[39m.\u001b[39;49mrun_backward(  \u001b[39m# Calls into the C++ engine to run the backward pass\u001b[39;49;00m\n\u001b[1;32m    174\u001b[0m     tensors, grad_tensors_, retain_graph, create_graph, inputs,\n\u001b[1;32m    175\u001b[0m     allow_unreachable\u001b[39m=\u001b[39;49m\u001b[39mTrue\u001b[39;49;00m, accumulate_grad\u001b[39m=\u001b[39;49m\u001b[39mTrue\u001b[39;49;00m)\n",
            "\u001b[0;31mKeyboardInterrupt\u001b[0m: "
          ]
        }
      ],
      "source": [
        "model = train(40, model, optimiser,data_loader, dataset_sizes, scheduler=scheduler, model_save_location=\"/content/drive/My Drive/coding/vision_model_state.pt\", device=device)"
      ]
    },
    {
      "cell_type": "code",
      "execution_count": null,
      "metadata": {
        "id": "J_oIEtNOklX6"
      },
      "outputs": [],
      "source": []
    }
  ],
  "metadata": {
    "accelerator": "GPU",
    "colab": {
      "collapsed_sections": [],
      "name": "vision_model.ipynb",
      "provenance": []
    },
    "gpuClass": "standard",
    "interpreter": {
      "hash": "f53e2f1528c4ea6ed94c8d97c2244a74e89c0ff201e49f44e466841bc02a24f6"
    },
    "kernelspec": {
      "display_name": "Python 3.10.4 ('rec_ranking')",
      "language": "python",
      "name": "python3"
    },
    "language_info": {
      "codemirror_mode": {
        "name": "ipython",
        "version": 3
      },
      "file_extension": ".py",
      "mimetype": "text/x-python",
      "name": "python",
      "nbconvert_exporter": "python",
      "pygments_lexer": "ipython3",
      "version": "3.10.4"
    },
    "widgets": {
      "application/vnd.jupyter.widget-state+json": {
        "0cedadb4310f4566a669d2a2b15fbb80": {
          "model_module": "@jupyter-widgets/controls",
          "model_module_version": "1.5.0",
          "model_name": "HTMLModel",
          "state": {
            "_dom_classes": [],
            "_model_module": "@jupyter-widgets/controls",
            "_model_module_version": "1.5.0",
            "_model_name": "HTMLModel",
            "_view_count": null,
            "_view_module": "@jupyter-widgets/controls",
            "_view_module_version": "1.5.0",
            "_view_name": "HTMLView",
            "description": "",
            "description_tooltip": null,
            "layout": "IPY_MODEL_9a7e8dad39e04ecfba776e9c070a5ee2",
            "placeholder": "​",
            "style": "IPY_MODEL_30279549aa7f4ff48dc073612a8f32ab",
            "value": " 97.8M/97.8M [00:00&lt;00:00, 135MB/s]"
          }
        },
        "29d46b8711a247a6acb0e7fe6626c038": {
          "model_module": "@jupyter-widgets/base",
          "model_module_version": "1.2.0",
          "model_name": "LayoutModel",
          "state": {
            "_model_module": "@jupyter-widgets/base",
            "_model_module_version": "1.2.0",
            "_model_name": "LayoutModel",
            "_view_count": null,
            "_view_module": "@jupyter-widgets/base",
            "_view_module_version": "1.2.0",
            "_view_name": "LayoutView",
            "align_content": null,
            "align_items": null,
            "align_self": null,
            "border": null,
            "bottom": null,
            "display": null,
            "flex": null,
            "flex_flow": null,
            "grid_area": null,
            "grid_auto_columns": null,
            "grid_auto_flow": null,
            "grid_auto_rows": null,
            "grid_column": null,
            "grid_gap": null,
            "grid_row": null,
            "grid_template_areas": null,
            "grid_template_columns": null,
            "grid_template_rows": null,
            "height": null,
            "justify_content": null,
            "justify_items": null,
            "left": null,
            "margin": null,
            "max_height": null,
            "max_width": null,
            "min_height": null,
            "min_width": null,
            "object_fit": null,
            "object_position": null,
            "order": null,
            "overflow": null,
            "overflow_x": null,
            "overflow_y": null,
            "padding": null,
            "right": null,
            "top": null,
            "visibility": null,
            "width": null
          }
        },
        "30279549aa7f4ff48dc073612a8f32ab": {
          "model_module": "@jupyter-widgets/controls",
          "model_module_version": "1.5.0",
          "model_name": "DescriptionStyleModel",
          "state": {
            "_model_module": "@jupyter-widgets/controls",
            "_model_module_version": "1.5.0",
            "_model_name": "DescriptionStyleModel",
            "_view_count": null,
            "_view_module": "@jupyter-widgets/base",
            "_view_module_version": "1.2.0",
            "_view_name": "StyleView",
            "description_width": ""
          }
        },
        "37d5f0eddf7c4c7d8b6dfd7f67d13391": {
          "model_module": "@jupyter-widgets/controls",
          "model_module_version": "1.5.0",
          "model_name": "DescriptionStyleModel",
          "state": {
            "_model_module": "@jupyter-widgets/controls",
            "_model_module_version": "1.5.0",
            "_model_name": "DescriptionStyleModel",
            "_view_count": null,
            "_view_module": "@jupyter-widgets/base",
            "_view_module_version": "1.2.0",
            "_view_name": "StyleView",
            "description_width": ""
          }
        },
        "4b2fa506853e4f30bf164181952edc0c": {
          "model_module": "@jupyter-widgets/controls",
          "model_module_version": "1.5.0",
          "model_name": "ProgressStyleModel",
          "state": {
            "_model_module": "@jupyter-widgets/controls",
            "_model_module_version": "1.5.0",
            "_model_name": "ProgressStyleModel",
            "_view_count": null,
            "_view_module": "@jupyter-widgets/base",
            "_view_module_version": "1.2.0",
            "_view_name": "StyleView",
            "bar_color": null,
            "description_width": ""
          }
        },
        "7698d9558efc4f0c952f4ca21938bb06": {
          "model_module": "@jupyter-widgets/controls",
          "model_module_version": "1.5.0",
          "model_name": "FloatProgressModel",
          "state": {
            "_dom_classes": [],
            "_model_module": "@jupyter-widgets/controls",
            "_model_module_version": "1.5.0",
            "_model_name": "FloatProgressModel",
            "_view_count": null,
            "_view_module": "@jupyter-widgets/controls",
            "_view_module_version": "1.5.0",
            "_view_name": "ProgressView",
            "bar_style": "success",
            "description": "",
            "description_tooltip": null,
            "layout": "IPY_MODEL_df6a269fac67456c909581f3c2ede460",
            "max": 102530333,
            "min": 0,
            "orientation": "horizontal",
            "style": "IPY_MODEL_4b2fa506853e4f30bf164181952edc0c",
            "value": 102530333
          }
        },
        "7dd6778c37904e27941c5e7c0f115dea": {
          "model_module": "@jupyter-widgets/base",
          "model_module_version": "1.2.0",
          "model_name": "LayoutModel",
          "state": {
            "_model_module": "@jupyter-widgets/base",
            "_model_module_version": "1.2.0",
            "_model_name": "LayoutModel",
            "_view_count": null,
            "_view_module": "@jupyter-widgets/base",
            "_view_module_version": "1.2.0",
            "_view_name": "LayoutView",
            "align_content": null,
            "align_items": null,
            "align_self": null,
            "border": null,
            "bottom": null,
            "display": null,
            "flex": null,
            "flex_flow": null,
            "grid_area": null,
            "grid_auto_columns": null,
            "grid_auto_flow": null,
            "grid_auto_rows": null,
            "grid_column": null,
            "grid_gap": null,
            "grid_row": null,
            "grid_template_areas": null,
            "grid_template_columns": null,
            "grid_template_rows": null,
            "height": null,
            "justify_content": null,
            "justify_items": null,
            "left": null,
            "margin": null,
            "max_height": null,
            "max_width": null,
            "min_height": null,
            "min_width": null,
            "object_fit": null,
            "object_position": null,
            "order": null,
            "overflow": null,
            "overflow_x": null,
            "overflow_y": null,
            "padding": null,
            "right": null,
            "top": null,
            "visibility": null,
            "width": null
          }
        },
        "9a7e8dad39e04ecfba776e9c070a5ee2": {
          "model_module": "@jupyter-widgets/base",
          "model_module_version": "1.2.0",
          "model_name": "LayoutModel",
          "state": {
            "_model_module": "@jupyter-widgets/base",
            "_model_module_version": "1.2.0",
            "_model_name": "LayoutModel",
            "_view_count": null,
            "_view_module": "@jupyter-widgets/base",
            "_view_module_version": "1.2.0",
            "_view_name": "LayoutView",
            "align_content": null,
            "align_items": null,
            "align_self": null,
            "border": null,
            "bottom": null,
            "display": null,
            "flex": null,
            "flex_flow": null,
            "grid_area": null,
            "grid_auto_columns": null,
            "grid_auto_flow": null,
            "grid_auto_rows": null,
            "grid_column": null,
            "grid_gap": null,
            "grid_row": null,
            "grid_template_areas": null,
            "grid_template_columns": null,
            "grid_template_rows": null,
            "height": null,
            "justify_content": null,
            "justify_items": null,
            "left": null,
            "margin": null,
            "max_height": null,
            "max_width": null,
            "min_height": null,
            "min_width": null,
            "object_fit": null,
            "object_position": null,
            "order": null,
            "overflow": null,
            "overflow_x": null,
            "overflow_y": null,
            "padding": null,
            "right": null,
            "top": null,
            "visibility": null,
            "width": null
          }
        },
        "aa28eb13b586404e98c0c3935474d701": {
          "model_module": "@jupyter-widgets/controls",
          "model_module_version": "1.5.0",
          "model_name": "HTMLModel",
          "state": {
            "_dom_classes": [],
            "_model_module": "@jupyter-widgets/controls",
            "_model_module_version": "1.5.0",
            "_model_name": "HTMLModel",
            "_view_count": null,
            "_view_module": "@jupyter-widgets/controls",
            "_view_module_version": "1.5.0",
            "_view_name": "HTMLView",
            "description": "",
            "description_tooltip": null,
            "layout": "IPY_MODEL_7dd6778c37904e27941c5e7c0f115dea",
            "placeholder": "​",
            "style": "IPY_MODEL_37d5f0eddf7c4c7d8b6dfd7f67d13391",
            "value": "100%"
          }
        },
        "bf1f115d0b99460d883339a48e1456f9": {
          "model_module": "@jupyter-widgets/controls",
          "model_module_version": "1.5.0",
          "model_name": "HBoxModel",
          "state": {
            "_dom_classes": [],
            "_model_module": "@jupyter-widgets/controls",
            "_model_module_version": "1.5.0",
            "_model_name": "HBoxModel",
            "_view_count": null,
            "_view_module": "@jupyter-widgets/controls",
            "_view_module_version": "1.5.0",
            "_view_name": "HBoxView",
            "box_style": "",
            "children": [
              "IPY_MODEL_aa28eb13b586404e98c0c3935474d701",
              "IPY_MODEL_7698d9558efc4f0c952f4ca21938bb06",
              "IPY_MODEL_0cedadb4310f4566a669d2a2b15fbb80"
            ],
            "layout": "IPY_MODEL_29d46b8711a247a6acb0e7fe6626c038"
          }
        },
        "df6a269fac67456c909581f3c2ede460": {
          "model_module": "@jupyter-widgets/base",
          "model_module_version": "1.2.0",
          "model_name": "LayoutModel",
          "state": {
            "_model_module": "@jupyter-widgets/base",
            "_model_module_version": "1.2.0",
            "_model_name": "LayoutModel",
            "_view_count": null,
            "_view_module": "@jupyter-widgets/base",
            "_view_module_version": "1.2.0",
            "_view_name": "LayoutView",
            "align_content": null,
            "align_items": null,
            "align_self": null,
            "border": null,
            "bottom": null,
            "display": null,
            "flex": null,
            "flex_flow": null,
            "grid_area": null,
            "grid_auto_columns": null,
            "grid_auto_flow": null,
            "grid_auto_rows": null,
            "grid_column": null,
            "grid_gap": null,
            "grid_row": null,
            "grid_template_areas": null,
            "grid_template_columns": null,
            "grid_template_rows": null,
            "height": null,
            "justify_content": null,
            "justify_items": null,
            "left": null,
            "margin": null,
            "max_height": null,
            "max_width": null,
            "min_height": null,
            "min_width": null,
            "object_fit": null,
            "object_position": null,
            "order": null,
            "overflow": null,
            "overflow_x": null,
            "overflow_y": null,
            "padding": null,
            "right": null,
            "top": null,
            "visibility": null,
            "width": null
          }
        }
      }
    }
  },
  "nbformat": 4,
  "nbformat_minor": 0
}
