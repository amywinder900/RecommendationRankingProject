{
 "cells": [
  {
   "cell_type": "code",
   "execution_count": 1,
   "metadata": {},
   "outputs": [],
   "source": [
    "from PIL import Image\n",
    "import glob"
   ]
  },
  {
   "cell_type": "code",
   "execution_count": 2,
   "metadata": {},
   "outputs": [],
   "source": [
    "list_of_images = glob.glob(\"data/images/*.jpg\")\n",
    "list_of_images = list_of_images[0:10]"
   ]
  },
  {
   "cell_type": "code",
   "execution_count": 3,
   "metadata": {},
   "outputs": [],
   "source": [
    "final_size = 512"
   ]
  },
  {
   "cell_type": "code",
   "execution_count": 4,
   "metadata": {},
   "outputs": [
    {
     "data": {
      "image/png": "[encoded data removed]",
      "text/plain": [
       "<PIL.Image.Image image mode=RGB size=512x512>"
      ]
     },
     "execution_count": 4,
     "metadata": {},
     "output_type": "execute_result"
    }
   ],
   "source": [
    "black_img"
   ]
  },
  {
   "cell_type": "code",
   "execution_count": 7,
   "metadata": {},
   "outputs": [],
   "source": [
    "for img in list_of_images:\n",
    "    #open image\n",
    "    new_img = Image.open(img)\n",
    "    #resize by finding the biggest side of the image and calculating ratio to resize by\n",
    "    max_side_length = max(new_img.size)\n",
    "    resize_ratio = final_size / max_side_length\n",
    "    img_width = int(new_img.size[0]*resize_ratio)\n",
    "    img_height = int(new_img.size[1]*resize_ratio)\n",
    "    resized_img = new_img.resize((img_width, img_height))\n",
    "    #convert to rgb\n",
    "    rgb_img = resized_img.convert(\"RGB\")\n",
    "    #paste on black image\n",
    "    black_img = Image.new(mode=\"RGB\", size=(final_size, final_size))\n",
    "    black_img.paste(rgb_img, ((final_size -img_width)//2, (final_size - img_height)//2))\n",
    "    #save to file\n",
    "    file_name = \"data/new_images/\" + img.split(\"/\")[-1]\n",
    "    black_img.save(file_name)\n"
   ]
  },
  {
   "cell_type": "code",
   "execution_count": null,
   "metadata": {},
   "outputs": [],
   "source": []
  }
 ],
 "metadata": {
  "interpreter": {
   "hash": "dcf507bf5873a8c97ddf2db58122cc59cd3f9ce25022ef6c5deee080e32895da"
  },
  "kernelspec": {
   "display_name": "Python 3.9.5 ('base')",
   "language": "python",
   "name": "python3"
  },
  "language_info": {
   "codemirror_mode": {
    "name": "ipython",
    "version": 3
   },
   "file_extension": ".py",
   "mimetype": "text/x-python",
   "name": "python",
   "nbconvert_exporter": "python",
   "pygments_lexer": "ipython3",
   "version": "3.10.4"
  },
  "orig_nbformat": 4
 },
 "nbformat": 4,
 "nbformat_minor": 2
}
