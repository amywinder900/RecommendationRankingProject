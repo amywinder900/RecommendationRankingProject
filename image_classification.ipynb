{
 "cells": [
  {
   "cell_type": "code",
   "execution_count": null,
   "metadata": {},
   "outputs": [],
   "source": [
    "#import sklearnx to speed up code (must be imported before sklearn)\n",
    "\n",
    "from sklearnex import patch_sklearn\n",
    "patch_sklearn() "
   ]
  },
  {
   "cell_type": "code",
   "execution_count": 22,
   "metadata": {},
   "outputs": [],
   "source": [
    "from download_from_database import DownloadTables\n",
    "import pandas as pd\n",
    "import torch\n",
    "import numpy as np \n",
    "from PIL import Image\n",
    "from alive_progress import alive_bar\n",
    "from torchvision.transforms import ToTensor\n",
    "from sklearn.model_selection import train_test_split\n",
    "from sklearn.linear_model import LogisticRegression\n",
    "from os.path import isfile\n",
    "from clean_tabular import CleanTabular"
   ]
  },
  {
   "cell_type": "code",
   "execution_count": 23,
   "metadata": {},
   "outputs": [],
   "source": [
    "class PrepareData:\n",
    "    \"\"\"\n",
    "    Class to process images for a classifcation model.\n",
    "\n",
    "        Attributes:\n",
    "            crediential_location(str): Optionally, the location of the yaml file containing the database credentials. It should contain DATABASE_TYPE, DBAPI, ENDPOINT, USER, PASSWORD, PORT, DATABASE\n",
    "    \"\"\"\n",
    "    def __init__(self, credentials_location:str=None):\n",
    "        \"\"\"\n",
    "        See help(PrepareData)\n",
    "        \"\"\"\n",
    "        product_df, image_df = self.retrieve_dataframes(credentials_location)\n",
    "\n",
    "        self.product_df = product_df\n",
    "        self.image_df = image_df\n",
    "\n",
    "    def retrieve_dataframes(self, credentials_location:str=None):\n",
    "        \"\"\"\n",
    "        Retrives the Dataframes..\n",
    "\n",
    "        \n",
    "        Attributes:\n",
    "            crediential_location(str): Optionally, the location of the yaml file containing the database credentials. It should contain DATABASE_TYPE, DBAPI, ENDPOINT, USER, PASSWORD, PORT, DATABASE\n",
    "        \n",
    "        Returns:\n",
    "            product_df(DataFrame): The clean DataFrame from the products tables. \n",
    "            image_df (DataFrame): The clean DataFrame from the images table. \n",
    "\n",
    "        \n",
    "        \"\"\"\n",
    "        #if credentials location is given, attempt to download the tables\n",
    "        if credentials_location != None:\n",
    "            downloader = DownloadTables(credentials_location)\n",
    "            downloader.download_table(\"images\")\n",
    "            downloader.download_table(\"products\")\n",
    "        \n",
    "        # check the appropriate products table exists\n",
    "        \n",
    "        product_table_location = \"data/products_table_clean.json\"\n",
    "        # product_table_location = \"data/products_table_logistic_regression.json\"\n",
    "        if isfile(product_table_location) == False:\n",
    "            print(\"Creating \", product_table_location)\n",
    "            data_location = \"data/products_table.json\"\n",
    "            product_data = pd.read_json(data_location)\n",
    "            \n",
    "            cleaner = CleanTabular(product_data)\n",
    "            cleaner.create_main_category_column()\n",
    "            product_data = cleaner.get_product_df()\n",
    "            product_data.to_json(product_table_location)\n",
    "\n",
    "        # read the data into dataframes\n",
    "        product_df = pd.read_json(product_table_location)\n",
    "        image_df = pd.read_json(\"data/images_table.json\")\n",
    "\n",
    "        return product_df, image_df\n",
    "\n",
    "    def retrieve_image_category(self, image_name:str) -> str:\n",
    "        \"\"\"\n",
    "        Given the ID of an image, retrieves the category. \n",
    "\n",
    "        Attributes:\n",
    "            image_name(str): the name of when \n",
    "        \"\"\"\n",
    "        image_row = self.image_df.loc[self.image_df[\"id\"] == image_name]\n",
    "        product_id = image_row.iloc[0][\"product_id\"]\n",
    "\n",
    "        product_row = self.product_df.loc[self.product_df[\"id\"] == product_id]\n",
    "        category = product_row.iloc[0][\"main_category\"]\n",
    "        \n",
    "        return category\n",
    "\n",
    "    @staticmethod\n",
    "    def image_to_array(image_location):\n",
    "        \"\"\"\n",
    "        Converts an image to a numpy array, \n",
    "        \"\"\"\n",
    "        image = Image.open(image_location)\n",
    "        image = ToTensor()(image)\n",
    "        image = torch.flatten(image)\n",
    "        return image.numpy()\n",
    "\n",
    "    \n",
    "    def convert_to_image_array(self, image):\n",
    "        image_category = self.retrieve_image_category(image)\n",
    "        image_location = images_folder +\"/\"+ image +\".jpg\"\n",
    "        image_array = self.image_to_array(image_location)\n",
    "        return image_array, image_category\n",
    "\n",
    "    \n",
    "    def create_dict_of_categories(self): \n",
    "        categories = set(self.product_df[\"main_category\"]) \n",
    "        categories_dict = {k: v for v, k in enumerate(categories)} \n",
    "        self.categories_dict = categories_dict\n",
    "        return categories_dict\n",
    "\n",
    "\n",
    "    def form_arrays(self, image_size:int, n:int = None):\n",
    "        \n",
    "        images = list(image_df[\"id\"])\n",
    "\n",
    "        # if the number of images hasn't been specified, look at all images\n",
    "        if n == None:\n",
    "            n = len(images)\n",
    "\n",
    "        # sets up the arrays\n",
    "        # array_size is based on a square image with three channels\n",
    "        array_size = (image_size**2)*3\n",
    "        X = np.zeros((n,array_size))\n",
    "        y = np.zeros(n)\n",
    "\n",
    "        \n",
    "        #set up a dictionary assigning categories to integers\n",
    "        pipeline.create_dict_of_categories()\n",
    "        \n",
    "\n",
    "        for index in range(n):\n",
    "            image = images[index]\n",
    "            try:\n",
    "                features, label = pipeline.convert_to_image_array(image)\n",
    "                X[index, :] = features\n",
    "                y[index] = self.categories_dict[label]\n",
    "\n",
    "            except:\n",
    "                #TODO deal with this because it might be affecting the model\n",
    "                X[index, :] = np.zeros(array_size)\n",
    "                y[index] = 0\n",
    "\n",
    "\n",
    "        return X, y\n",
    "            "
   ]
  },
  {
   "cell_type": "code",
   "execution_count": 24,
   "metadata": {},
   "outputs": [
    {
     "name": "stdout",
     "output_type": "stream",
     "text": [
      "data/images_table.json  is already downloaded, skipping\n",
      "data/products_table.json  is already downloaded, skipping\n"
     ]
    }
   ],
   "source": [
    "credentials_location = \".gitignore/credentials_for_marketplace.yml\"\n",
    "\n",
    "pipeline = PrepareData()\n",
    "product_df, image_df = pipeline.retrieve_dataframes(credentials_location)"
   ]
  },
  {
   "cell_type": "code",
   "execution_count": 25,
   "metadata": {},
   "outputs": [
    {
     "data": {
      "text/plain": [
       "{'diy_tools_materials': 0,\n",
       " 'other_goods': 1,\n",
       " 'clothes_footwear_accessories': 2,\n",
       " 'sports_leisure_travel': 3,\n",
       " 'computers_software': 4,\n",
       " 'appliances': 5,\n",
       " 'baby_kids_stuff': 6,\n",
       " 'video_games_consoles': 7,\n",
       " 'home_garden': 8,\n",
       " 'phones_mobile_phones_telecoms': 9,\n",
       " 'music_films_books_games': 10,\n",
       " 'office_furniture_equipment': 11,\n",
       " 'health_beauty': 12}"
      ]
     },
     "execution_count": 25,
     "metadata": {},
     "output_type": "execute_result"
    }
   ],
   "source": [
    "pipeline.create_dict_of_categories()\n",
    "pipeline.categories_dict"
   ]
  },
  {
   "cell_type": "code",
   "execution_count": 26,
   "metadata": {},
   "outputs": [],
   "source": [
    "\n",
    "images_folder = \"data/cleaned_images_128\"\n",
    "image_size = 128\n",
    "\n",
    "\n",
    "X, y = pipeline.form_arrays(image_size)"
   ]
  },
  {
   "cell_type": "code",
   "execution_count": 27,
   "metadata": {},
   "outputs": [],
   "source": [
    "X_train, X_test, y_train, y_test = train_test_split(X, y, test_size=0.2, random_state=1, shuffle=False)"
   ]
  },
  {
   "cell_type": "code",
   "execution_count": 28,
   "metadata": {},
   "outputs": [
    {
     "name": "stdout",
     "output_type": "stream",
     "text": [
      "0.01190003966679889\n"
     ]
    },
    {
     "name": "stderr",
     "output_type": "stream",
     "text": [
      "/home/amy/miniconda3/envs/rec_ranking/lib/python3.10/site-packages/sklearn/linear_model/_logistic.py:814: ConvergenceWarning: lbfgs failed to converge (status=1):\n",
      "STOP: TOTAL NO. of ITERATIONS REACHED LIMIT.\n",
      "\n",
      "Increase the number of iterations (max_iter) or scale the data as shown in:\n",
      "    https://scikit-learn.org/stable/modules/preprocessing.html\n",
      "Please also refer to the documentation for alternative solver options:\n",
      "    https://scikit-learn.org/stable/modules/linear_model.html#logistic-regression\n",
      "  n_iter_i = _check_optimize_result(\n"
     ]
    }
   ],
   "source": [
    "\n",
    "model = LogisticRegression(max_iter=100)\n",
    "model.fit(X_train, y_train)\n",
    "\n",
    "score = model.score(X_test, y_test)\n",
    "print(score)"
   ]
  },
  {
   "cell_type": "code",
   "execution_count": null,
   "metadata": {},
   "outputs": [],
   "source": []
  }
 ],
 "metadata": {
  "interpreter": {
   "hash": "f53e2f1528c4ea6ed94c8d97c2244a74e89c0ff201e49f44e466841bc02a24f6"
  },
  "kernelspec": {
   "display_name": "Python 3.10.4 ('rec_ranking')",
   "language": "python",
   "name": "python3"
  },
  "language_info": {
   "codemirror_mode": {
    "name": "ipython",
    "version": 3
   },
   "file_extension": ".py",
   "mimetype": "text/x-python",
   "name": "python",
   "nbconvert_exporter": "python",
   "pygments_lexer": "ipython3",
   "version": "3.10.4"
  },
  "orig_nbformat": 4
 },
 "nbformat": 4,
 "nbformat_minor": 2
}
